{
 "cells": [
  {
   "cell_type": "code",
   "execution_count": 2,
   "id": "3d187785-7a51-42de-b45e-d35d3df5e473",
   "metadata": {
    "scrolled": true
   },
   "outputs": [
    {
     "name": "stdout",
     "output_type": "stream",
     "text": [
      "Collecting ipywidgets\n",
      "  Using cached ipywidgets-8.1.5-py3-none-any.whl.metadata (2.3 kB)\n",
      "Requirement already satisfied: comm>=0.1.3 in c:\\users\\devcloud\\cjenv\\lib\\site-packages (from ipywidgets) (0.2.2)\n",
      "Requirement already satisfied: ipython>=6.1.0 in c:\\users\\devcloud\\cjenv\\lib\\site-packages (from ipywidgets) (8.28.0)\n",
      "Requirement already satisfied: traitlets>=4.3.1 in c:\\users\\devcloud\\cjenv\\lib\\site-packages (from ipywidgets) (5.14.3)\n",
      "Collecting widgetsnbextension~=4.0.12 (from ipywidgets)\n",
      "  Using cached widgetsnbextension-4.0.13-py3-none-any.whl.metadata (1.6 kB)\n",
      "Collecting jupyterlab-widgets~=3.0.12 (from ipywidgets)\n",
      "  Using cached jupyterlab_widgets-3.0.13-py3-none-any.whl.metadata (4.1 kB)\n",
      "Requirement already satisfied: decorator in c:\\users\\devcloud\\cjenv\\lib\\site-packages (from ipython>=6.1.0->ipywidgets) (5.1.1)\n",
      "Requirement already satisfied: jedi>=0.16 in c:\\users\\devcloud\\cjenv\\lib\\site-packages (from ipython>=6.1.0->ipywidgets) (0.19.1)\n",
      "Requirement already satisfied: matplotlib-inline in c:\\users\\devcloud\\cjenv\\lib\\site-packages (from ipython>=6.1.0->ipywidgets) (0.1.7)\n",
      "Requirement already satisfied: prompt-toolkit<3.1.0,>=3.0.41 in c:\\users\\devcloud\\cjenv\\lib\\site-packages (from ipython>=6.1.0->ipywidgets) (3.0.48)\n",
      "Requirement already satisfied: pygments>=2.4.0 in c:\\users\\devcloud\\cjenv\\lib\\site-packages (from ipython>=6.1.0->ipywidgets) (2.18.0)\n",
      "Requirement already satisfied: stack-data in c:\\users\\devcloud\\cjenv\\lib\\site-packages (from ipython>=6.1.0->ipywidgets) (0.6.3)\n",
      "Requirement already satisfied: exceptiongroup in c:\\users\\devcloud\\cjenv\\lib\\site-packages (from ipython>=6.1.0->ipywidgets) (1.2.2)\n",
      "Requirement already satisfied: typing-extensions>=4.6 in c:\\users\\devcloud\\cjenv\\lib\\site-packages (from ipython>=6.1.0->ipywidgets) (4.12.2)\n",
      "Requirement already satisfied: colorama in c:\\users\\devcloud\\cjenv\\lib\\site-packages (from ipython>=6.1.0->ipywidgets) (0.4.6)\n",
      "Requirement already satisfied: parso<0.9.0,>=0.8.3 in c:\\users\\devcloud\\cjenv\\lib\\site-packages (from jedi>=0.16->ipython>=6.1.0->ipywidgets) (0.8.4)\n",
      "Requirement already satisfied: wcwidth in c:\\users\\devcloud\\cjenv\\lib\\site-packages (from prompt-toolkit<3.1.0,>=3.0.41->ipython>=6.1.0->ipywidgets) (0.2.13)\n",
      "Requirement already satisfied: executing>=1.2.0 in c:\\users\\devcloud\\cjenv\\lib\\site-packages (from stack-data->ipython>=6.1.0->ipywidgets) (2.1.0)\n",
      "Requirement already satisfied: asttokens>=2.1.0 in c:\\users\\devcloud\\cjenv\\lib\\site-packages (from stack-data->ipython>=6.1.0->ipywidgets) (2.4.1)\n",
      "Requirement already satisfied: pure-eval in c:\\users\\devcloud\\cjenv\\lib\\site-packages (from stack-data->ipython>=6.1.0->ipywidgets) (0.2.3)\n",
      "Requirement already satisfied: six>=1.12.0 in c:\\users\\devcloud\\cjenv\\lib\\site-packages (from asttokens>=2.1.0->stack-data->ipython>=6.1.0->ipywidgets) (1.16.0)\n",
      "Using cached ipywidgets-8.1.5-py3-none-any.whl (139 kB)\n",
      "Using cached jupyterlab_widgets-3.0.13-py3-none-any.whl (214 kB)\n",
      "Using cached widgetsnbextension-4.0.13-py3-none-any.whl (2.3 MB)\n",
      "Installing collected packages: widgetsnbextension, jupyterlab-widgets, ipywidgets\n",
      "Successfully installed ipywidgets-8.1.5 jupyterlab-widgets-3.0.13 widgetsnbextension-4.0.13\n"
     ]
    }
   ],
   "source": [
    "!pip install ipywidgets"
   ]
  },
  {
   "cell_type": "code",
   "execution_count": 51,
   "id": "dace6f67-1af6-46de-b8ca-2da79bae86c2",
   "metadata": {},
   "outputs": [],
   "source": [
    "import torch\n",
    "import torch.onnx\n",
    "from torch import nn\n",
    "import os\n",
    "import numpy as np"
   ]
  },
  {
   "cell_type": "code",
   "execution_count": 52,
   "id": "4c53f43c-94ab-420c-8a5b-b55aafd725ef",
   "metadata": {},
   "outputs": [],
   "source": [
    "\n",
    "class ConvBlock(nn.Module):\n",
    "    def __init__(self, in_channels, out_channels):\n",
    "        super(ConvBlock, self).__init__()\n",
    "        self.block = nn.Sequential(\n",
    "            nn.Conv2d(in_channels, out_channels, kernel_size=3, stride=1, padding=1, bias=False),\n",
    "            nn.BatchNorm2d(out_channels),\n",
    "            nn.ReLU(inplace=True),\n",
    "            nn.Conv2d(out_channels, out_channels, kernel_size=3, stride=1, padding=1, bias=False),\n",
    "            nn.BatchNorm2d(out_channels),\n",
    "            nn.ReLU(inplace=True)\n",
    "        )\n",
    "\n",
    "    def forward(self, x):\n",
    "        return self.block(x)\n",
    "\n",
    "class Encoder(nn.Module):\n",
    "    def __init__(self, in_channels, out_channels):\n",
    "        super(Encoder, self).__init__()\n",
    "        self.sequence = nn.Sequential(\n",
    "            ConvBlock(in_channels, out_channels),\n",
    "            nn.MaxPool2d(kernel_size=2, stride=2),\n",
    "        )\n",
    "\n",
    "    def forward(self, x):\n",
    "        return self.sequence(x)\n",
    "\n",
    "class Decoder(nn.Module):\n",
    "    def __init__(self, in_channels, skip_channels, out_channels):\n",
    "        super(Decoder, self).__init__()\n",
    "        combined_channels = in_channels + skip_channels\n",
    "        self.sequence = nn.Sequential(\n",
    "            nn.Conv2d(combined_channels, out_channels, kernel_size=3, padding=1),\n",
    "            nn.BatchNorm2d(out_channels),\n",
    "            nn.ReLU(inplace=True),\n",
    "            nn.Conv2d(out_channels, out_channels, kernel_size=3, padding=1),\n",
    "            nn.BatchNorm2d(out_channels),\n",
    "            nn.ReLU(inplace=True),\n",
    "            nn.ConvTranspose2d(out_channels, out_channels, kernel_size=2, stride=2),\n",
    "        )\n",
    "\n",
    "    def forward(self, x):\n",
    "        return self.sequence(x)\n",
    "\n",
    "class Segnet(nn.Module):\n",
    "    def __init__(self, in_channels, out_channels):\n",
    "        super(Segnet, self).__init__()\n",
    "\n",
    "        # Reduced Encoder Layers\n",
    "        self.encoder1 = Encoder(in_channels, 64)\n",
    "        self.encoder2 = Encoder(64, 128)\n",
    "        self.encoder3 = Encoder(128, 256)\n",
    "\n",
    "        # Reduced Decoder Layers\n",
    "        self.decoder1 = Decoder(256, 0, 128)\n",
    "        self.decoder2 = Decoder(128, 128, 64)\n",
    "        self.decoder3 = Decoder(64, 64, out_channels)   # Changed the final decoder layer\n",
    "\n",
    "        # Final Output Convolution\n",
    "        self.output_conv = nn.Conv2d(out_channels, out_channels, kernel_size=1)\n",
    "\n",
    "    def forward(self, x):\n",
    "        # Encoding\n",
    "        e1 = self.encoder1(x)\n",
    "        e2 = self.encoder2(e1)\n",
    "        e3 = self.encoder3(e2)\n",
    "\n",
    "        # Decoding\n",
    "        d1 = self.decoder1(e3)\n",
    "        d2 = self.decoder2(torch.cat([d1, e2], dim=1))\n",
    "        d3 = self.decoder3(torch.cat([d2, e1], dim=1))\n",
    "\n",
    "        # Output\n",
    "        logits = self.output_conv(d3)\n",
    "\n",
    "        return logits\n"
   ]
  },
  {
   "cell_type": "code",
   "execution_count": 53,
   "id": "c5f64975-45ea-4678-8fb6-b551f61c8e2b",
   "metadata": {},
   "outputs": [],
   "source": [
    "root_dir = \"./\""
   ]
  },
  {
   "cell_type": "code",
   "execution_count": 54,
   "id": "00dc8a55-570d-42ab-b5ba-c47e49999f86",
   "metadata": {},
   "outputs": [],
   "source": [
    "def load_checkpoint(model, optimizer, filename=\"Lymhatic_model_18_9_24_Foreground_extraction.pt\", dir_add=root_dir):\n",
    "    filepath = os.path.join(dir_add, filename)\n",
    "    if not os.path.exists(filepath):\n",
    "        raise FileNotFoundError(f\"No checkpoint found at '{filepath}'\")\n",
    "\n",
    "    checkpoint = torch.load(filepath, torch.device('cpu'))\n",
    "    model.load_state_dict(checkpoint['state_dict'])\n",
    "    optimizer.load_state_dict(checkpoint['optimizer'])\n",
    "    epoch = checkpoint['epoch']\n",
    "    best_acc = checkpoint['best_acc']\n",
    "\n",
    "    print(f\"Loaded checkpoint '{filepath}' (epoch {epoch})\")\n",
    "\n",
    "    return model, optimizer, epoch, best_acc"
   ]
  },
  {
   "cell_type": "code",
   "execution_count": 55,
   "id": "0e1e4f6b-5684-42bc-8b0e-44cfb33c94d4",
   "metadata": {
    "scrolled": true
   },
   "outputs": [
    {
     "name": "stdout",
     "output_type": "stream",
     "text": [
      "Loaded checkpoint './Segnet.pth' (epoch 0)\n"
     ]
    },
    {
     "data": {
      "text/plain": [
       "Segnet(\n",
       "  (encoder1): Encoder(\n",
       "    (sequence): Sequential(\n",
       "      (0): ConvBlock(\n",
       "        (block): Sequential(\n",
       "          (0): Conv2d(3, 64, kernel_size=(3, 3), stride=(1, 1), padding=(1, 1), bias=False)\n",
       "          (1): BatchNorm2d(64, eps=1e-05, momentum=0.1, affine=True, track_running_stats=True)\n",
       "          (2): ReLU(inplace=True)\n",
       "          (3): Conv2d(64, 64, kernel_size=(3, 3), stride=(1, 1), padding=(1, 1), bias=False)\n",
       "          (4): BatchNorm2d(64, eps=1e-05, momentum=0.1, affine=True, track_running_stats=True)\n",
       "          (5): ReLU(inplace=True)\n",
       "        )\n",
       "      )\n",
       "      (1): MaxPool2d(kernel_size=2, stride=2, padding=0, dilation=1, ceil_mode=False)\n",
       "    )\n",
       "  )\n",
       "  (encoder2): Encoder(\n",
       "    (sequence): Sequential(\n",
       "      (0): ConvBlock(\n",
       "        (block): Sequential(\n",
       "          (0): Conv2d(64, 128, kernel_size=(3, 3), stride=(1, 1), padding=(1, 1), bias=False)\n",
       "          (1): BatchNorm2d(128, eps=1e-05, momentum=0.1, affine=True, track_running_stats=True)\n",
       "          (2): ReLU(inplace=True)\n",
       "          (3): Conv2d(128, 128, kernel_size=(3, 3), stride=(1, 1), padding=(1, 1), bias=False)\n",
       "          (4): BatchNorm2d(128, eps=1e-05, momentum=0.1, affine=True, track_running_stats=True)\n",
       "          (5): ReLU(inplace=True)\n",
       "        )\n",
       "      )\n",
       "      (1): MaxPool2d(kernel_size=2, stride=2, padding=0, dilation=1, ceil_mode=False)\n",
       "    )\n",
       "  )\n",
       "  (encoder3): Encoder(\n",
       "    (sequence): Sequential(\n",
       "      (0): ConvBlock(\n",
       "        (block): Sequential(\n",
       "          (0): Conv2d(128, 256, kernel_size=(3, 3), stride=(1, 1), padding=(1, 1), bias=False)\n",
       "          (1): BatchNorm2d(256, eps=1e-05, momentum=0.1, affine=True, track_running_stats=True)\n",
       "          (2): ReLU(inplace=True)\n",
       "          (3): Conv2d(256, 256, kernel_size=(3, 3), stride=(1, 1), padding=(1, 1), bias=False)\n",
       "          (4): BatchNorm2d(256, eps=1e-05, momentum=0.1, affine=True, track_running_stats=True)\n",
       "          (5): ReLU(inplace=True)\n",
       "        )\n",
       "      )\n",
       "      (1): MaxPool2d(kernel_size=2, stride=2, padding=0, dilation=1, ceil_mode=False)\n",
       "    )\n",
       "  )\n",
       "  (decoder1): Decoder(\n",
       "    (sequence): Sequential(\n",
       "      (0): Conv2d(256, 128, kernel_size=(3, 3), stride=(1, 1), padding=(1, 1))\n",
       "      (1): BatchNorm2d(128, eps=1e-05, momentum=0.1, affine=True, track_running_stats=True)\n",
       "      (2): ReLU(inplace=True)\n",
       "      (3): Conv2d(128, 128, kernel_size=(3, 3), stride=(1, 1), padding=(1, 1))\n",
       "      (4): BatchNorm2d(128, eps=1e-05, momentum=0.1, affine=True, track_running_stats=True)\n",
       "      (5): ReLU(inplace=True)\n",
       "      (6): ConvTranspose2d(128, 128, kernel_size=(2, 2), stride=(2, 2))\n",
       "    )\n",
       "  )\n",
       "  (decoder2): Decoder(\n",
       "    (sequence): Sequential(\n",
       "      (0): Conv2d(256, 64, kernel_size=(3, 3), stride=(1, 1), padding=(1, 1))\n",
       "      (1): BatchNorm2d(64, eps=1e-05, momentum=0.1, affine=True, track_running_stats=True)\n",
       "      (2): ReLU(inplace=True)\n",
       "      (3): Conv2d(64, 64, kernel_size=(3, 3), stride=(1, 1), padding=(1, 1))\n",
       "      (4): BatchNorm2d(64, eps=1e-05, momentum=0.1, affine=True, track_running_stats=True)\n",
       "      (5): ReLU(inplace=True)\n",
       "      (6): ConvTranspose2d(64, 64, kernel_size=(2, 2), stride=(2, 2))\n",
       "    )\n",
       "  )\n",
       "  (decoder3): Decoder(\n",
       "    (sequence): Sequential(\n",
       "      (0): Conv2d(128, 1, kernel_size=(3, 3), stride=(1, 1), padding=(1, 1))\n",
       "      (1): BatchNorm2d(1, eps=1e-05, momentum=0.1, affine=True, track_running_stats=True)\n",
       "      (2): ReLU(inplace=True)\n",
       "      (3): Conv2d(1, 1, kernel_size=(3, 3), stride=(1, 1), padding=(1, 1))\n",
       "      (4): BatchNorm2d(1, eps=1e-05, momentum=0.1, affine=True, track_running_stats=True)\n",
       "      (5): ReLU(inplace=True)\n",
       "      (6): ConvTranspose2d(1, 1, kernel_size=(2, 2), stride=(2, 2))\n",
       "    )\n",
       "  )\n",
       "  (output_conv): Conv2d(1, 1, kernel_size=(1, 1), stride=(1, 1))\n",
       ")"
      ]
     },
     "execution_count": 55,
     "metadata": {},
     "output_type": "execute_result"
    }
   ],
   "source": [
    "model = Segnet(in_channels=3, out_channels=1)\n",
    "optimizer= torch.optim.SGD(model.parameters(), lr=0.01)\n",
    "model, optimizer, epoch, best_acc = load_checkpoint(model, optimizer, filename=\"Segnet.pth\", dir_add=root_dir)\n",
    "# model.(torch.load(\"Segnet.pth\", map_location ='cpu')['state_dict'], strict=False)\n",
    "model.eval()"
   ]
  },
  {
   "cell_type": "code",
   "execution_count": 56,
   "id": "0a2f60d5-071f-4532-accb-49eb8ff49b8e",
   "metadata": {},
   "outputs": [],
   "source": [
    "dummy_input = torch.rand(1, 3, 224, 224)"
   ]
  },
  {
   "cell_type": "code",
   "execution_count": 57,
   "id": "20a708e5-49fd-4889-8b71-1f99027e4c70",
   "metadata": {},
   "outputs": [],
   "source": [
    "torch.onnx.export(model, dummy_input, \"segnet_model_infer.onnx\", verbose=True)"
   ]
  },
  {
   "cell_type": "code",
   "execution_count": null,
   "id": "4c5fa30a-5394-478e-96ce-85c1805371d8",
   "metadata": {},
   "outputs": [],
   "source": []
  },
  {
   "cell_type": "code",
   "execution_count": 112,
   "id": "b6721846-1d82-455c-9577-313bad40070b",
   "metadata": {},
   "outputs": [],
   "source": [
    "import matplotlib.pyplot as plt"
   ]
  },
  {
   "cell_type": "code",
   "execution_count": 113,
   "id": "baee6ee6-4744-4d55-b2aa-79316bef6c4f",
   "metadata": {},
   "outputs": [],
   "source": [
    "from openvino.runtime import Core\n",
    "from PIL import Image"
   ]
  },
  {
   "cell_type": "code",
   "execution_count": 114,
   "id": "7ac4a5d1-12f8-4cfb-80b1-3b66c081c1bd",
   "metadata": {},
   "outputs": [],
   "source": [
    "ie = Core()"
   ]
  },
  {
   "cell_type": "code",
   "execution_count": 117,
   "id": "bda80f6e-37dd-47dd-a905-077378f9f530",
   "metadata": {},
   "outputs": [],
   "source": [
    "model = ie.read_model(model = \"./openvino_models/deeplab_model_infer.xml\") #change model name here\n",
    "compiled_model = ie.compile_model(model=model, device_name=\"CPU\")"
   ]
  },
  {
   "cell_type": "code",
   "execution_count": 118,
   "id": "02d4e578-937b-44f6-8f32-0b344bfaba30",
   "metadata": {},
   "outputs": [],
   "source": [
    "input_ayer = compiled_model.input(0)\n",
    "output_layer = compiled_model.output(0)"
   ]
  },
  {
   "cell_type": "code",
   "execution_count": 126,
   "id": "721f3b40-f007-4a3d-8b48-55f8d25436c8",
   "metadata": {},
   "outputs": [],
   "source": [
    "image = Image.open(\"./Inference/TCGA_HT_A61B_19991127/TCGA_HT_A61B_19991127_37.tif\") #change file name here"
   ]
  },
  {
   "cell_type": "code",
   "execution_count": 127,
   "id": "51dd68fb-b9cd-4dcf-b0ba-f9471daae73d",
   "metadata": {},
   "outputs": [
    {
     "data": {
      "text/plain": [
       "<matplotlib.image.AxesImage at 0x1f4a3cd4130>"
      ]
     },
     "execution_count": 127,
     "metadata": {},
     "output_type": "execute_result"
    },
    {
     "data": {
      "image/png": "[encoded data removed]",
      "text/plain": [
       "<Figure size 640x480 with 1 Axes>"
      ]
     },
     "metadata": {},
     "output_type": "display_data"
    }
   ],
   "source": [
    "plt.imshow(image)"
   ]
  },
  {
   "cell_type": "code",
   "execution_count": 128,
   "id": "00b54012-58cf-4c1b-a15c-909c93118aff",
   "metadata": {},
   "outputs": [],
   "source": [
    "resized_image = image.resize((224,224))"
   ]
  },
  {
   "cell_type": "code",
   "execution_count": 129,
   "id": "b081eeeb-108b-4031-ab50-6844a914a9b9",
   "metadata": {},
   "outputs": [],
   "source": [
    "input_image = np.transpose(resized_image, (2, 0, 1))\n",
    "input_image = np.expand_dims(input_image, axis=0)\n",
    "input_image = input_image.astype(np.float32)"
   ]
  },
  {
   "cell_type": "code",
   "execution_count": 130,
   "id": "23c00aa7-0c75-49bf-ab18-1b5d86953b1f",
   "metadata": {},
   "outputs": [],
   "source": [
    "results = compiled_model([input_image])"
   ]
  },
  {
   "cell_type": "code",
   "execution_count": 131,
   "id": "d6186232-5dc8-4932-a72b-8f7453751e78",
   "metadata": {},
   "outputs": [
    {
     "data": {
      "text/plain": [
       "<matplotlib.image.AxesImage at 0x1f4a3d604f0>"
      ]
     },
     "execution_count": 131,
     "metadata": {},
     "output_type": "execute_result"
    },
    {
     "data": {
      "image/png": "[encoded data removed]",
      "text/plain": [
       "<Figure size 640x480 with 1 Axes>"
      ]
     },
     "metadata": {},
     "output_type": "display_data"
    }
   ],
   "source": [
    "segmentation_mask = np.argmax(results[output_layer], axis=1)[0]\n",
    "plt.imshow(segmentation_mask)"
   ]
  },
  {
   "cell_type": "code",
   "execution_count": 133,
   "id": "9faa118f-5386-41c6-ade6-5d7d64968c14",
   "metadata": {},
   "outputs": [
    {
     "data": {
      "text/plain": [
       "<matplotlib.image.AxesImage at 0x1f4a3e2e5f0>"
      ]
     },
     "execution_count": 133,
     "metadata": {},
     "output_type": "execute_result"
    },
    {
     "data": {
      "image/png": "[encoded data removed]",
      "text/plain": [
       "<Figure size 640x480 with 1 Axes>"
      ]
     },
     "metadata": {},
     "output_type": "display_data"
    }
   ],
   "source": [
    "mask = Image.open(\"./Inference/TCGA_HT_A61B_19991127/TCGA_HT_A61B_19991127_37_mask.tif\") #change file name here\n",
    "plt.imshow(mask)"
   ]
  },
  {
   "cell_type": "code",
   "execution_count": 45,
   "id": "a7fe725d-c211-4f9f-8ac9-b97cf9ad4d48",
   "metadata": {},
   "outputs": [],
   "source": [
    "#imageio.show(\"Segmenatation mask: \", segmentation_mask)\n",
    "#cv2.waitKey(0)\n",
    "#cv2.destroyAllWindows()"
   ]
  },
  {
   "cell_type": "code",
   "execution_count": null,
   "id": "0d38b3a2-b330-43ad-aae0-9c78a0f68114",
   "metadata": {},
   "outputs": [],
   "source": []
  },
  {
   "cell_type": "markdown",
   "id": "d362a808-0bb7-4ece-b27c-c90b27186d86",
   "metadata": {},
   "source": [
    "## DeeplabV2"
   ]
  },
  {
   "cell_type": "code",
   "execution_count": 106,
   "id": "5d1b26b8-84ec-4150-b3f4-f15f351af644",
   "metadata": {},
   "outputs": [],
   "source": [
    "import torch.nn.functional as F"
   ]
  },
  {
   "cell_type": "code",
   "execution_count": 107,
   "id": "e266c526-231e-49a7-a1ce-e971c523d367",
   "metadata": {},
   "outputs": [],
   "source": [
    "class ASPP(nn.Module):\n",
    "    def __init__(self, in_channels, out_channels):\n",
    "        super(ASPP, self).__init__()\n",
    "        self.aspp1 = nn.Conv2d(in_channels, out_channels, kernel_size=1, stride=1, padding=0, dilation=1, bias=False)\n",
    "        self.aspp2 = nn.Conv2d(in_channels, out_channels, kernel_size=3, stride=1, padding=6, dilation=6, bias=False)\n",
    "        self.aspp3 = nn.Conv2d(in_channels, out_channels, kernel_size=3, stride=1, padding=12, dilation=12, bias=False)\n",
    "        self.aspp4 = nn.Conv2d(in_channels, out_channels, kernel_size=3, stride=1, padding=18, dilation=18, bias=False)\n",
    "        self.global_avg_pool = nn.Sequential(nn.AdaptiveAvgPool2d((1,1)),\n",
    "                                             nn.Conv2d(in_channels, out_channels, kernel_size=1, stride=1, bias=False),\n",
    "                                             nn.Upsample(size=(in_channels, in_channels), mode='bilinear', align_corners=True))\n",
    "\n",
    "    def forward(self, x):\n",
    "        x1 = self.aspp1(x)\n",
    "        # print(f\"x1 shape: {x1.shape}\")\n",
    "        x2 = self.aspp2(x)\n",
    "        # print(f\"x2 shape: {x2.shape}\")\n",
    "        x3 = self.aspp3(x)\n",
    "        # print(f\"x3 shape: {x3.shape}\")\n",
    "        x4 = self.aspp4(x)\n",
    "        # print(f\"x4 shape: {x4.shape}\")\n",
    "        x5 = self.global_avg_pool(x)\n",
    "        # print(f\"x5 shape: {x5.shape}\")\n",
    "\n",
    "        # Upsample x5 to match the size of x1, x2, x3, and x4\n",
    "        target_size = x1.size()[2:]  # Extract the height and width from x1\n",
    "        x5 = F.interpolate(x5, size=target_size, mode='bilinear', align_corners=True)\n",
    "\n",
    "        return torch.cat([x1, x2, x3, x4, x5], dim=1)\n",
    "\n",
    "\n",
    "class ConvBlock(nn.Module):\n",
    "    def __init__(self, in_channels, out_channels):\n",
    "        super(ConvBlock, self).__init__()\n",
    "        self.block = nn.Sequential(\n",
    "            nn.Conv2d(in_channels, out_channels, kernel_size=3, stride=1, padding=1, bias=False),\n",
    "            nn.ReLU(inplace=True),\n",
    "            nn.MaxPool2d(kernel_size=2, stride=2),\n",
    "            nn.Conv2d(out_channels, out_channels, kernel_size=3, stride=1, padding=1, bias=False), # corrected here\n",
    "            nn.ReLU(inplace=True),\n",
    "            nn.MaxPool2d(kernel_size=2, stride=2),\n",
    "            nn.Conv2d(out_channels, out_channels, kernel_size=3, stride=1, padding=1, bias=False),\n",
    "            nn.ReLU(inplace=True)\n",
    "        )\n",
    "    def forward(self, x):\n",
    "        return self.block(x)\n",
    "\n",
    "\n",
    "\n",
    "class Encoder(nn.Module):\n",
    "    def __init__(self, in_channels, mid_channels, out_channels):\n",
    "        super(Encoder, self).__init__()\n",
    "        self.sequence = nn.Sequential(\n",
    "            ConvBlock(in_channels, mid_channels),\n",
    "            ASPP(mid_channels, mid_channels),\n",
    "            nn.Conv2d(mid_channels * 5, out_channels, kernel_size=1, stride=1, padding=0, bias=False),\n",
    "            nn.Upsample(scale_factor=2, mode='bilinear', align_corners=False),\n",
    "        )\n",
    "\n",
    "    def forward(self, x):\n",
    "        return self.sequence(x)\n",
    "\n",
    "\n",
    "class Decoder(nn.Module):\n",
    "    def __init__(self, in_channels, mid_channels, out_channels, output_size=(256, 256)):\n",
    "        super(Decoder, self).__init__()\n",
    "        self.output_size = output_size\n",
    "        self.aspp = ASPP(in_channels, mid_channels)\n",
    "        self.conv1x1 = nn.Conv2d(mid_channels * 5, out_channels, kernel_size=1, stride=1, padding=0, bias=False)\n",
    "\n",
    "        self.encoder = Encoder(in_channels, mid_channels, out_channels)\n",
    "        self.upsample = nn.Upsample(size=self.output_size, mode='bilinear', align_corners=False)\n",
    "\n",
    "        self.final_conv = nn.Conv2d(out_channels * 2, out_channels, kernel_size=3, stride=1, padding=1, bias=False)\n",
    "\n",
    "    def forward(self, x):\n",
    "        x_aspp = self.aspp(x)\n",
    "        x1 = self.conv1x1(x_aspp)\n",
    "        x1 = self.upsample(x1)\n",
    "\n",
    "        x2 = self.encoder(x)\n",
    "        x2 = self.upsample(x2)\n",
    "\n",
    "        # Check and adjust the sizes if they do not match\n",
    "        # if x1.size()[2:] != x2.size()[2:]:\n",
    "            # Adjust x1 or x2 using additional upsampling or downsampling\n",
    "            # For example:\n",
    "            # x1 = F.interpolate(x1, size=x2.size()[2:], mode='bilinear', align_corners=False)\n",
    "\n",
    "        x_concat = torch.cat([x1, x2], dim=1)\n",
    "        x_final = self.final_conv(x_concat)\n",
    "        return x_final\n",
    "\n",
    "\n",
    "class Deeplab(nn.Module):\n",
    "    def __init__(self, in_channels, mid_channels, out_channels):\n",
    "        super(Deeplab, self).__init__()\n",
    "\n",
    "        # Make sure that the channel sizes are consistent\n",
    "        self.encoder = Encoder(in_channels, mid_channels, mid_channels)\n",
    "\n",
    "        # The decoder receives the output from the encoder\n",
    "        self.decoder = Decoder(mid_channels, mid_channels, out_channels)\n",
    "\n",
    "    def forward(self, x):\n",
    "        # Encoder and decoder operations\n",
    "        x = self.encoder(x)\n",
    "        x = self.decoder(x)\n",
    "\n",
    "        return x\n",
    "\n"
   ]
  },
  {
   "cell_type": "code",
   "execution_count": 108,
   "id": "fd5d5ee5-0ae3-4df3-a8b8-fdfa42aca4ad",
   "metadata": {},
   "outputs": [],
   "source": [
    "def load_checkpoint2(model, filename=\"Lymhatic_model_18_9_24_Foreground_extraction.pt\", dir_add=root_dir):\n",
    "    filepath = os.path.join(dir_add, filename)\n",
    "    if not os.path.exists(filepath):\n",
    "        raise FileNotFoundError(f\"No checkpoint found at '{filepath}'\")\n",
    "\n",
    "    checkpoint = torch.load(filepath, torch.device('cpu'))\n",
    "    model.load_state_dict(checkpoint['state_dict'])\n",
    "    #optimizer.load_state_dict(checkpoint['optimizer'])\n",
    "    epoch = checkpoint['epoch']\n",
    "    best_acc = checkpoint['best_acc']\n",
    "\n",
    "    print(f\"Loaded checkpoint '{filepath}' (epoch {epoch})\")\n",
    "\n",
    "    return model, epoch, best_acc"
   ]
  },
  {
   "cell_type": "code",
   "execution_count": 109,
   "id": "915c8250-3496-4417-98cc-30c32fb815ce",
   "metadata": {},
   "outputs": [
    {
     "name": "stdout",
     "output_type": "stream",
     "text": [
      "Loaded checkpoint './DeepLab.pth' (epoch 0)\n"
     ]
    },
    {
     "data": {
      "text/plain": [
       "Deeplab(\n",
       "  (encoder): Encoder(\n",
       "    (sequence): Sequential(\n",
       "      (0): ConvBlock(\n",
       "        (block): Sequential(\n",
       "          (0): Conv2d(3, 128, kernel_size=(3, 3), stride=(1, 1), padding=(1, 1), bias=False)\n",
       "          (1): ReLU(inplace=True)\n",
       "          (2): MaxPool2d(kernel_size=2, stride=2, padding=0, dilation=1, ceil_mode=False)\n",
       "          (3): Conv2d(128, 128, kernel_size=(3, 3), stride=(1, 1), padding=(1, 1), bias=False)\n",
       "          (4): ReLU(inplace=True)\n",
       "          (5): MaxPool2d(kernel_size=2, stride=2, padding=0, dilation=1, ceil_mode=False)\n",
       "          (6): Conv2d(128, 128, kernel_size=(3, 3), stride=(1, 1), padding=(1, 1), bias=False)\n",
       "          (7): ReLU(inplace=True)\n",
       "        )\n",
       "      )\n",
       "      (1): ASPP(\n",
       "        (aspp1): Conv2d(128, 128, kernel_size=(1, 1), stride=(1, 1), bias=False)\n",
       "        (aspp2): Conv2d(128, 128, kernel_size=(3, 3), stride=(1, 1), padding=(6, 6), dilation=(6, 6), bias=False)\n",
       "        (aspp3): Conv2d(128, 128, kernel_size=(3, 3), stride=(1, 1), padding=(12, 12), dilation=(12, 12), bias=False)\n",
       "        (aspp4): Conv2d(128, 128, kernel_size=(3, 3), stride=(1, 1), padding=(18, 18), dilation=(18, 18), bias=False)\n",
       "        (global_avg_pool): Sequential(\n",
       "          (0): AdaptiveAvgPool2d(output_size=(1, 1))\n",
       "          (1): Conv2d(128, 128, kernel_size=(1, 1), stride=(1, 1), bias=False)\n",
       "          (2): Upsample(size=(128, 128), mode='bilinear')\n",
       "        )\n",
       "      )\n",
       "      (2): Conv2d(640, 128, kernel_size=(1, 1), stride=(1, 1), bias=False)\n",
       "      (3): Upsample(scale_factor=2.0, mode='bilinear')\n",
       "    )\n",
       "  )\n",
       "  (decoder): Decoder(\n",
       "    (aspp): ASPP(\n",
       "      (aspp1): Conv2d(128, 128, kernel_size=(1, 1), stride=(1, 1), bias=False)\n",
       "      (aspp2): Conv2d(128, 128, kernel_size=(3, 3), stride=(1, 1), padding=(6, 6), dilation=(6, 6), bias=False)\n",
       "      (aspp3): Conv2d(128, 128, kernel_size=(3, 3), stride=(1, 1), padding=(12, 12), dilation=(12, 12), bias=False)\n",
       "      (aspp4): Conv2d(128, 128, kernel_size=(3, 3), stride=(1, 1), padding=(18, 18), dilation=(18, 18), bias=False)\n",
       "      (global_avg_pool): Sequential(\n",
       "        (0): AdaptiveAvgPool2d(output_size=(1, 1))\n",
       "        (1): Conv2d(128, 128, kernel_size=(1, 1), stride=(1, 1), bias=False)\n",
       "        (2): Upsample(size=(128, 128), mode='bilinear')\n",
       "      )\n",
       "    )\n",
       "    (conv1x1): Conv2d(640, 1, kernel_size=(1, 1), stride=(1, 1), bias=False)\n",
       "    (encoder): Encoder(\n",
       "      (sequence): Sequential(\n",
       "        (0): ConvBlock(\n",
       "          (block): Sequential(\n",
       "            (0): Conv2d(128, 128, kernel_size=(3, 3), stride=(1, 1), padding=(1, 1), bias=False)\n",
       "            (1): ReLU(inplace=True)\n",
       "            (2): MaxPool2d(kernel_size=2, stride=2, padding=0, dilation=1, ceil_mode=False)\n",
       "            (3): Conv2d(128, 128, kernel_size=(3, 3), stride=(1, 1), padding=(1, 1), bias=False)\n",
       "            (4): ReLU(inplace=True)\n",
       "            (5): MaxPool2d(kernel_size=2, stride=2, padding=0, dilation=1, ceil_mode=False)\n",
       "            (6): Conv2d(128, 128, kernel_size=(3, 3), stride=(1, 1), padding=(1, 1), bias=False)\n",
       "            (7): ReLU(inplace=True)\n",
       "          )\n",
       "        )\n",
       "        (1): ASPP(\n",
       "          (aspp1): Conv2d(128, 128, kernel_size=(1, 1), stride=(1, 1), bias=False)\n",
       "          (aspp2): Conv2d(128, 128, kernel_size=(3, 3), stride=(1, 1), padding=(6, 6), dilation=(6, 6), bias=False)\n",
       "          (aspp3): Conv2d(128, 128, kernel_size=(3, 3), stride=(1, 1), padding=(12, 12), dilation=(12, 12), bias=False)\n",
       "          (aspp4): Conv2d(128, 128, kernel_size=(3, 3), stride=(1, 1), padding=(18, 18), dilation=(18, 18), bias=False)\n",
       "          (global_avg_pool): Sequential(\n",
       "            (0): AdaptiveAvgPool2d(output_size=(1, 1))\n",
       "            (1): Conv2d(128, 128, kernel_size=(1, 1), stride=(1, 1), bias=False)\n",
       "            (2): Upsample(size=(128, 128), mode='bilinear')\n",
       "          )\n",
       "        )\n",
       "        (2): Conv2d(640, 1, kernel_size=(1, 1), stride=(1, 1), bias=False)\n",
       "        (3): Upsample(scale_factor=2.0, mode='bilinear')\n",
       "      )\n",
       "    )\n",
       "    (upsample): Upsample(size=(256, 256), mode='bilinear')\n",
       "    (final_conv): Conv2d(2, 1, kernel_size=(3, 3), stride=(1, 1), padding=(1, 1), bias=False)\n",
       "  )\n",
       ")"
      ]
     },
     "execution_count": 109,
     "metadata": {},
     "output_type": "execute_result"
    }
   ],
   "source": [
    "model2 = Deeplab(in_channels=3, mid_channels=128, out_channels=1)\n",
    "optimizer2= torch.optim.SGD(model2.parameters(), lr=0.01)\n",
    "model2, epoch2, best_acc2 = load_checkpoint2(model2, filename=\"DeepLab.pth\", dir_add=root_dir) #remover optimizer2\n",
    "# model.(torch.load(\"Segnet.pth\", map_location ='cpu')['state_dict'], strict=False)\n",
    "model2.eval()"
   ]
  },
  {
   "cell_type": "code",
   "execution_count": 110,
   "id": "20c11efe-569a-428f-af5f-7c78a11cb45b",
   "metadata": {},
   "outputs": [],
   "source": [
    "dummy_input2 = torch.rand(1, 3, 224, 224)\n",
    "torch.onnx.export(model2, dummy_input2, \"deeplab_model_infer.onnx\", verbose=True)\n",
    "\n"
   ]
  },
  {
   "cell_type": "code",
   "execution_count": null,
   "id": "042dff5e-6096-49e9-b65d-d153988cd25e",
   "metadata": {},
   "outputs": [],
   "source": []
  },
  {
   "cell_type": "code",
   "execution_count": null,
   "id": "f396bd7d-27dc-4305-8117-f688613b1097",
   "metadata": {},
   "outputs": [],
   "source": []
  },
  {
   "cell_type": "code",
   "execution_count": null,
   "id": "cf14d4ca-ffad-4084-92f5-3e994d33958a",
   "metadata": {},
   "outputs": [],
   "source": []
  },
  {
   "cell_type": "code",
   "execution_count": null,
   "id": "5ea729ee-1e15-41d6-bee4-d6dad99f4104",
   "metadata": {},
   "outputs": [],
   "source": []
  },
  {
   "cell_type": "code",
   "execution_count": null,
   "id": "c2c011db-67ac-42b0-a6f1-f3257b17dd59",
   "metadata": {},
   "outputs": [],
   "source": []
  },
  {
   "cell_type": "markdown",
   "id": "1db6668c-60a6-4d41-b4cc-557654ed29f7",
   "metadata": {},
   "source": [
    "## Unet"
   ]
  },
  {
   "cell_type": "code",
   "execution_count": null,
   "id": "e58036fb-2bac-4410-8711-c7083a0d4e7d",
   "metadata": {},
   "outputs": [],
   "source": []
  }
 ],
 "metadata": {
  "kernelspec": {
   "display_name": "Python 3 (ipykernel)",
   "language": "python",
   "name": "python3"
  },
  "language_info": {
   "codemirror_mode": {
    "name": "ipython",
    "version": 3
   },
   "file_extension": ".py",
   "mimetype": "text/x-python",
   "name": "python",
   "nbconvert_exporter": "python",
   "pygments_lexer": "ipython3",
   "version": "3.10.11"
  }
 },
 "nbformat": 4,
 "nbformat_minor": 5
}
